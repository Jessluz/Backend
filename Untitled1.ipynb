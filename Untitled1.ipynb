{
  "nbformat": 4,
  "nbformat_minor": 0,
  "metadata": {
    "colab": {
      "provenance": [],
      "authorship_tag": "ABX9TyPTDyR7bOFHR3eCLur88il6",
      "include_colab_link": true
    },
    "kernelspec": {
      "name": "python3",
      "display_name": "Python 3"
    },
    "language_info": {
      "name": "python"
    }
  },
  "cells": [
    {
      "cell_type": "markdown",
      "metadata": {
        "id": "view-in-github",
        "colab_type": "text"
      },
      "source": [
        "<a href=\"https://colab.research.google.com/github/Jessluz/Backend/blob/master/Untitled1.ipynb\" target=\"_parent\"><img src=\"https://colab.research.google.com/assets/colab-badge.svg\" alt=\"Open In Colab\"/></a>"
      ]
    },
    {
      "cell_type": "markdown",
      "source": [
        "### Atividade:\n",
        "1. Faça um algoritmo que leia um número inteiro e diga se ele é maior, menor ou igual a 10;\n",
        "\n"
      ],
      "metadata": {
        "id": "-ySaIMHDKinN"
      }
    },
    {
      "cell_type": "code",
      "source": [
        "n = int(input('digite um numero inteiro: ')) #recebendo valor do usuário e o transformando em int.\n",
        "if n == 10:\n",
        " print(f'{n} é igual a 10') #leitura do número\n",
        "\n",
        "elif n > 10:\n",
        " print(f'{n} é maior que 10') # mostra a verificação do comando\n",
        "\n",
        "else:\n",
        "  print(f'{n} é menor que 10')"
      ],
      "metadata": {
        "colab": {
          "base_uri": "https://localhost:8080/"
        },
        "id": "7UO9xU3_KoDs",
        "outputId": "df55fe67-e4e0-49e4-a070-0dff92a2e319"
      },
      "execution_count": 3,
      "outputs": [
        {
          "output_type": "stream",
          "name": "stdout",
          "text": [
            "digite um numero inteiro: 10\n",
            "10 é igual a 10\n"
          ]
        }
      ]
    },
    {
      "cell_type": "markdown",
      "source": [
        "2. Faça um algoritmo que leia dois números inteiros e apresente na tela o maior deles ou se eles são iguais;"
      ],
      "metadata": {
        "id": "EopvEvhfLInV"
      }
    },
    {
      "cell_type": "code",
      "source": [
        "# Lê o primeiro número inteiro\n",
        "num1 = int(input(\"Digite o primeiro número inteiro: \"))\n",
        "\n",
        "# Lê o segundo número inteiro\n",
        "num2 = int(input(\"Digite o segundo número inteiro: \"))\n",
        "\n",
        "# Verifica se os números são iguais\n",
        "if num1 == num2:\n",
        "    print(\"Os números são iguais.\")\n",
        "else:\n",
        "    # Verifica qual número é maior\n",
        "    if num1 > num2:\n",
        "        maior = num1\n",
        "    else:\n",
        "        maior = num2\n",
        "\n",
        "    print(\"O maior número é:\", maior)\n"
      ],
      "metadata": {
        "colab": {
          "base_uri": "https://localhost:8080/"
        },
        "id": "JsMy6HxPLVR8",
        "outputId": "df115ba1-08d6-4897-f5c2-39ccf2463bbb"
      },
      "execution_count": 4,
      "outputs": [
        {
          "output_type": "stream",
          "name": "stdout",
          "text": [
            "Digite o primeiro número inteiro: 3\n",
            "Digite o segundo número inteiro: 3\n",
            "Os números são iguais.\n"
          ]
        }
      ]
    },
    {
      "cell_type": "markdown",
      "source": [
        "3. Crie um algoritmo que leia um número e diga se ele está no intervalo fechado entre 25 e 200;"
      ],
      "metadata": {
        "id": "lcCNNCrXMq_1"
      }
    },
    {
      "cell_type": "code",
      "source": [
        "# Lê o número\n",
        "num = float(input(\"Digite um número: \"))\n",
        "\n",
        "# Verifica se o número está no intervalo entre 25 e 200\n",
        "if num >= 25 and num <= 200:\n",
        "    print(\"O número está no intervalo fechado entre 25 e 200.\")\n",
        "else:\n",
        "    print(\"O número não está no intervalo fechado entre 25 e 200.\")\n"
      ],
      "metadata": {
        "colab": {
          "base_uri": "https://localhost:8080/"
        },
        "id": "Ggkb4qaZMstV",
        "outputId": "6cb940b2-7498-496d-d59d-25af72bce806"
      },
      "execution_count": 5,
      "outputs": [
        {
          "output_type": "stream",
          "name": "stdout",
          "text": [
            "Digite um número: 300\n",
            "O número não está no intervalo fechado entre 25 e 200.\n"
          ]
        }
      ]
    },
    {
      "cell_type": "markdown",
      "source": [
        "4. Crie um algoritmo que leia um número e informe na tela se o mesmo é positivo. Caso seja, mostre o número na tela;"
      ],
      "metadata": {
        "id": "WOczRJO_NDZ7"
      }
    },
    {
      "cell_type": "code",
      "source": [
        "numero = float(input(\"Digite um número: \"))\n",
        "\n",
        "if numero > 0:\n",
        "    print(\"O número é positivo:\", numero)\n",
        "elif numero < 0:\n",
        "    print(\"O número é negativo:\", numero) # uma trataviva caso o usuário coloque um negativo\n",
        "else:\n",
        "    print(\"O número é zero.\")\n",
        "\n"
      ],
      "metadata": {
        "colab": {
          "base_uri": "https://localhost:8080/"
        },
        "id": "WTtirWZ2NG5T",
        "outputId": "62d15e73-4cf9-4188-c8b1-deae059ae3cc"
      },
      "execution_count": 9,
      "outputs": [
        {
          "output_type": "stream",
          "name": "stdout",
          "text": [
            "Digite um número: 4\n",
            "O número é positivo: 4.0\n"
          ]
        }
      ]
    },
    {
      "cell_type": "markdown",
      "source": [
        "5. Crie um algoritmo que leia um número e informe se ele é divisível por 7."
      ],
      "metadata": {
        "id": "bfxXnEG6Ojcq"
      }
    },
    {
      "cell_type": "code",
      "source": [
        "try:\n",
        "    numero = int(input(\"Digite um número: \")) # dado inserido\n",
        "\n",
        "    if numero % 7 == 0:\n",
        "        print(\"O número é divisível por 7.\") # leitura\n",
        "    else:\n",
        "        print(\"O número não é divisível por 7.\")\n",
        "\n",
        "except ValueError:\n",
        "    print(\"Valor inválido. Por favor, digite um número inteiro.\") #optei uma trativa pela experiência de usuário.\n",
        "\n"
      ],
      "metadata": {
        "colab": {
          "base_uri": "https://localhost:8080/"
        },
        "id": "vGMa_AX9Oraa",
        "outputId": "286c81b5-1bf7-47fb-ebaf-940f3317a48f"
      },
      "execution_count": 14,
      "outputs": [
        {
          "output_type": "stream",
          "name": "stdout",
          "text": [
            "Digite um número: 1,2\n",
            "Valor inválido. Por favor, digite um número inteiro.\n"
          ]
        }
      ]
    },
    {
      "cell_type": "markdown",
      "source": [
        "6. Crie um algoritmo que leia um número e diga se ele é par ou ímpar."
      ],
      "metadata": {
        "id": "Abm6IIZePiqA"
      }
    },
    {
      "cell_type": "code",
      "source": [
        "numero = int(input(\"Digite um número: \")) # recebendo o dado\n",
        "\n",
        "if numero % 2 == 0:\n",
        "    print(\"O número é par.\")\n",
        "\n",
        "else:\n",
        "    print(\"O número é ímpar.\") #leiruta\n"
      ],
      "metadata": {
        "colab": {
          "base_uri": "https://localhost:8080/"
        },
        "id": "DCuZrUXYPqbx",
        "outputId": "1d5bef65-9424-4f51-cc37-0097efefc6a1"
      },
      "execution_count": 15,
      "outputs": [
        {
          "output_type": "stream",
          "name": "stdout",
          "text": [
            "Digite um número: 3\n",
            "O número é ímpar.\n"
          ]
        }
      ]
    },
    {
      "cell_type": "markdown",
      "source": [
        "7. Escreva um programa em Python que solicite ao usuário que digite uma letra. Em seguida, verifique se a letra digitada é uma vogal ou não."
      ],
      "metadata": {
        "id": "1wn45lsUP80Z"
      }
    },
    {
      "cell_type": "code",
      "source": [
        "letra = input(\"Digite uma letra: \")\n",
        "\n",
        "vogais = ['a', 'e', 'i', 'o', 'u'] # os dados esperados\n",
        "\n",
        "\n",
        "if letra.lower() in vogais:\n",
        "    print(\"A letra digitada é uma vogal.\")\n",
        "\n",
        "\n",
        "else:\n",
        "    print(\"A letra digitada não é uma vogal.\") # resposta de tratativa!\n",
        "\n"
      ],
      "metadata": {
        "colab": {
          "base_uri": "https://localhost:8080/"
        },
        "id": "RLvycSknQPeZ",
        "outputId": "1a2f502e-1c4b-4df4-c2e6-98f65960ed76"
      },
      "execution_count": 17,
      "outputs": [
        {
          "output_type": "stream",
          "name": "stdout",
          "text": [
            "Digite uma letra: t\n",
            "A letra digitada não é uma vogal.\n"
          ]
        }
      ]
    },
    {
      "cell_type": "markdown",
      "source": [],
      "metadata": {
        "id": "vmn03gECQWKB"
      }
    },
    {
      "cell_type": "markdown",
      "source": [
        "8. Escreva um programa que solicite ao usuário três notas de um aluno e calcule a média. Em seguida, exiba a média e uma mensagem informando se o aluno foi aprovado (média maior ou igual a 7) ou reprovado."
      ],
      "metadata": {
        "id": "68XDMWvoRCRf"
      }
    },
    {
      "cell_type": "code",
      "source": [
        "nota1 = float(input(\"Digite a primeira nota: \")) # inserção dos dados\n",
        "nota2 = float(input(\"Digite a segunda nota: \"))\n",
        "nota3 = float(input(\"Digite a terceira nota: \"))\n",
        "\n",
        "media = (nota1 + nota2 + nota3) / 3 # var\n",
        "\n",
        "print(\"Média:\", media) #leitura\n",
        "\n",
        "if media >= 7:\n",
        "    print(\"Aluno aprovado!\")\n",
        "else:\n",
        "    print(\"Aluno reprovado.\")\n"
      ],
      "metadata": {
        "colab": {
          "base_uri": "https://localhost:8080/"
        },
        "id": "cftxsUqLRD9e",
        "outputId": "9476630e-8123-4b66-fd72-760a4a6e51aa"
      },
      "execution_count": 18,
      "outputs": [
        {
          "output_type": "stream",
          "name": "stdout",
          "text": [
            "Digite a primeira nota: 3\n",
            "Digite a segunda nota: 3\n",
            "Digite a terceira nota: 2\n",
            "Média: 2.6666666666666665\n",
            "Aluno reprovado.\n"
          ]
        }
      ]
    },
    {
      "cell_type": "markdown",
      "source": [
        "9. Escreva um programa que solicite ao usuário os comprimentos dos três lados de um triângulo. Em seguida, exiba uma mensagem informando se o triângulo é equilátero (todos os lados iguais), isósceles (dois lados iguais) ou escaleno (todos os lados diferentes)."
      ],
      "metadata": {
        "id": "iLtiSmz6RPiG"
      }
    },
    {
      "cell_type": "code",
      "source": [
        "lado1 = float(input(\"Digite o comprimento do primeiro lado: \")) #dados coletados\n",
        "lado2 = float(input(\"Digite o comprimento do segundo lado: \"))\n",
        "lado3 = float(input(\"Digite o comprimento do terceiro lado: \"))\n",
        "\n",
        "if lado1 == lado2 == lado3:\n",
        "    print(\"O triângulo é equilátero.\")\n",
        "elif lado1 == lado2 or lado1 == lado3 or lado2 == lado3: #leitura da impressão de acordo com as escolha do usuário.\n",
        "    print(\"O triângulo é isósceles.\")\n",
        "else:\n",
        "    print(\"O triângulo é escaleno.\")\n"
      ],
      "metadata": {
        "colab": {
          "base_uri": "https://localhost:8080/"
        },
        "id": "nZVJ1QcaRVpA",
        "outputId": "818935ab-05d5-48b0-ba0a-fa9b266f048e"
      },
      "execution_count": 19,
      "outputs": [
        {
          "output_type": "stream",
          "name": "stdout",
          "text": [
            "Digite o comprimento do primeiro lado: 3\n",
            "Digite o comprimento do segundo lado: 4\n",
            "Digite o comprimento do terceiro lado: 0\n",
            "O triângulo é escaleno.\n"
          ]
        }
      ]
    },
    {
      "cell_type": "markdown",
      "source": [
        "10.  Escreva um programa que solicite ao usuário sua idade e exiba uma mensagem informando em qual faixa etária ele se encontra: criança (0-12 anos), adolescente (13-17 anos), adulto (18-59 anos) ou idoso (60 anos ou mais)."
      ],
      "metadata": {
        "id": "pW1K5z90SJHa"
      }
    },
    {
      "cell_type": "code",
      "source": [
        "idade = int(input(\"Digite sua idade: \")) #coleta do dado\n",
        "\n",
        "if idade >= 0 and idade <= 12:\n",
        "    print(\"Você está na faixa etária de criança.\") #var para cada faixa usando o que aprendenmos em aula!\n",
        "elif idade >= 13 and idade <= 17:\n",
        "    print(\"Você está na faixa etária de adolescente.\")\n",
        "elif idade >= 18 and idade <= 59:\n",
        "    print(\"Você está na faixa etária de adulto.\")\n",
        "else:\n",
        "    print(\"Você está na faixa etária de idoso.\")\n"
      ],
      "metadata": {
        "colab": {
          "base_uri": "https://localhost:8080/"
        },
        "id": "DZuElEt3SKm8",
        "outputId": "b2db4d7d-cefa-47c6-916c-4db89a5a4b47"
      },
      "execution_count": 20,
      "outputs": [
        {
          "output_type": "stream",
          "name": "stdout",
          "text": [
            "Digite sua idade: 17\n",
            "Você está na faixa etária de adolescente.\n"
          ]
        }
      ]
    }
  ]
}